{
 "metadata": {
  "language_info": {
   "codemirror_mode": {
    "name": "ipython",
    "version": 3
   },
   "file_extension": ".py",
   "mimetype": "text/x-python",
   "name": "python",
   "nbconvert_exporter": "python",
   "pygments_lexer": "ipython3",
   "version": "3.8.5"
  },
  "orig_nbformat": 2,
  "kernelspec": {
   "name": "python385jvsc74a57bd075e1510848ff81b2a8a3022c3bfac472ed28a49a56e1422a056d525171f2408b",
   "display_name": "Python 3.8.5 64-bit ('base': conda)"
  },
  "metadata": {
   "interpreter": {
    "hash": "75e1510848ff81b2a8a3022c3bfac472ed28a49a56e1422a056d525171f2408b"
   }
  }
 },
 "nbformat": 4,
 "nbformat_minor": 2,
 "cells": [
  {
   "cell_type": "code",
   "execution_count": 4,
   "metadata": {},
   "outputs": [],
   "source": [
    "import sympy"
   ]
  },
  {
   "cell_type": "code",
   "execution_count": 36,
   "metadata": {},
   "outputs": [],
   "source": [
    "x = sympy.symbols(\"x\")\n",
    "slope = 3\n",
    "\n",
    "# Phi-sides\n",
    "phi1 = 3*x\n",
    "phi2 = 2-3*x\n",
    "phi3 = 3*x-1\n",
    "phi4 = 3-3*x"
   ]
  },
  {
   "cell_type": "code",
   "execution_count": 54,
   "metadata": {},
   "outputs": [
    {
     "output_type": "execute_result",
     "data": {
      "text/plain": [
       "56/9"
      ],
      "text/latex": "$\\displaystyle \\frac{56}{9}$"
     },
     "metadata": {},
     "execution_count": 54
    }
   ],
   "source": [
    "interval1 = sympy.integrate(slope**2, (x, 0, sympy.Rational(1, 3)))\n",
    "interval2 = sympy.integrate(slope**2, (x, sympy.Rational(1, 3), sympy.Rational(2, 3)))\n",
    "\n",
    "interval3 = sympy.integrate(phi1**2, (x, 0, sympy.Rational(1, 3)))\n",
    "interval4 = sympy.integrate(phi2**2, (x, sympy.Rational(1, 3), sympy.Rational(2, 3)))\n",
    "\n",
    "K_11 = interval1 + interval2 + interval3 + interval4\n",
    "K_11"
   ]
  },
  {
   "cell_type": "code",
   "execution_count": 95,
   "metadata": {},
   "outputs": [
    {
     "output_type": "execute_result",
     "data": {
      "text/plain": [
       "-53/18"
      ],
      "text/latex": "$\\displaystyle - \\frac{53}{18}$"
     },
     "metadata": {},
     "execution_count": 95
    }
   ],
   "source": [
    "interval1 = sympy.integrate(-slope*slope, (x, sympy.Rational(1, 3), sympy.Rational(2, 3)))\n",
    "interval2 = sympy.integrate(phi2*phi3, (x, sympy.Rational(1, 3), sympy.Rational(2, 3)))\n",
    "\n",
    "K_12 = interval1 + interval2\n",
    "K_12"
   ]
  },
  {
   "cell_type": "code",
   "execution_count": 98,
   "metadata": {},
   "outputs": [
    {
     "output_type": "execute_result",
     "data": {
      "text/plain": [
       "Matrix([\n",
       "[  56/9, -53/18],\n",
       "[-53/18,   56/9]])"
      ],
      "text/latex": "$\\displaystyle \\left[\\begin{matrix}\\frac{56}{9} & - \\frac{53}{18}\\\\- \\frac{53}{18} & \\frac{56}{9}\\end{matrix}\\right]$"
     },
     "metadata": {},
     "execution_count": 98
    }
   ],
   "source": [
    "# Because of symmetry\n",
    "\n",
    "sympy.Matrix([[K_11, K_12], [K_12, K_11]])"
   ]
  }
 ]
}