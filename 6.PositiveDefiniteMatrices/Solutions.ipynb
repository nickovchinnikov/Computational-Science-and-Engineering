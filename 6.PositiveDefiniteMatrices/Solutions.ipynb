{
 "cells": [
  {
   "cell_type": "markdown",
   "metadata": {},
   "source": [
    "## Init deps"
   ]
  },
  {
   "cell_type": "code",
   "execution_count": 15,
   "metadata": {},
   "outputs": [
    {
     "name": "stderr",
     "output_type": "stream",
     "text": [
      "\u001b[32m\u001b[1m  Resolving\u001b[22m\u001b[39m package versions...\n",
      "\u001b[32m\u001b[1mNo Changes\u001b[22m\u001b[39m to `~/.julia/environments/v1.5/Project.toml`\n",
      "\u001b[32m\u001b[1mNo Changes\u001b[22m\u001b[39m to `~/.julia/environments/v1.5/Manifest.toml`\n",
      "\u001b[32m\u001b[1m  Resolving\u001b[22m\u001b[39m package versions...\n",
      "\u001b[32m\u001b[1mNo Changes\u001b[22m\u001b[39m to `~/.julia/environments/v1.5/Project.toml`\n",
      "\u001b[32m\u001b[1mNo Changes\u001b[22m\u001b[39m to `~/.julia/environments/v1.5/Manifest.toml`\n",
      "\u001b[32m\u001b[1m  Resolving\u001b[22m\u001b[39m package versions...\n",
      "\u001b[32m\u001b[1mNo Changes\u001b[22m\u001b[39m to `~/.julia/environments/v1.5/Project.toml`\n",
      "\u001b[32m\u001b[1mNo Changes\u001b[22m\u001b[39m to `~/.julia/environments/v1.5/Manifest.toml`\n",
      "\u001b[32m\u001b[1m  Resolving\u001b[22m\u001b[39m package versions...\n",
      "\u001b[32m\u001b[1mNo Changes\u001b[22m\u001b[39m to `~/.julia/environments/v1.5/Project.toml`\n",
      "\u001b[32m\u001b[1mNo Changes\u001b[22m\u001b[39m to `~/.julia/environments/v1.5/Manifest.toml`\n",
      "WARNING: replacing module KTBC.\n",
      "WARNING: ignoring conflicting import of KTBC.CreateKTBC into Main\n"
     ]
    }
   ],
   "source": [
    "using Pkg\n",
    "Pkg.add(\"SymPy\")\n",
    "Pkg.add(\"Test\")\n",
    "Pkg.add(\"LinearAlgebra\")\n",
    "Pkg.add(\"Plots\")\n",
    "\n",
    "using SymPy\n",
    "using Test\n",
    "using LinearAlgebra\n",
    "using Plots\n",
    "# using SymbolicUtils\n",
    "\n",
    "include(\"../lib/KTBC.jl\")\n",
    "using .KTBC: CreateKTBC"
   ]
  },
  {
   "cell_type": "markdown",
   "metadata": {},
   "source": [
    "# Task \\#1\n",
    "### Symbol calculations"
   ]
  },
  {
   "cell_type": "code",
   "execution_count": 36,
   "metadata": {},
   "outputs": [
    {
     "data": {
      "text/latex": [
       "$\\left[ \\begin{array}{r}u₁ \\left(u₁ - u₂\\right) + u₂ \\left(- u₁ + 2 u₂\\right)\\end{array} \\right]$\n"
      ],
      "text/plain": [
       "1-element Array{Sym,1}:\n",
       " u₁⋅(u₁ - u₂) + u₂⋅(-u₁ + 2⋅u₂)"
      ]
     },
     "execution_count": 36,
     "metadata": {},
     "output_type": "execute_result"
    }
   ],
   "source": [
    "@vars u₁ u₂\n",
    "\n",
    "u⁺ = [u₁ u₂]\n",
    "u = [\n",
    "  u₁\n",
    "  u₂\n",
    "]\n",
    "\n",
    "T₂ = convert(Array{Int}, CreateKTBC(2)[2])\n",
    "\n",
    "u⁺T₂u = u⁺ * T₂ * u\n"
   ]
  },
  {
   "cell_type": "markdown",
   "metadata": {},
   "source": [
    "#### Find the result"
   ]
  },
  {
   "cell_type": "code",
   "execution_count": 56,
   "metadata": {},
   "outputs": [
    {
     "data": {
      "text/latex": [
       "$\\left[ \\begin{array}{r}u₁ \\left(u₁ - u₂\\right) + u₂ \\left(- u₁ + 2 u₂\\right)\\end{array} \\right]$\n"
      ],
      "text/plain": [
       "1-element Array{Sym,1}:\n",
       " u₁⋅(u₁ - u₂) + u₂⋅(-u₁ + 2⋅u₂)"
      ]
     },
     "execution_count": 56,
     "metadata": {},
     "output_type": "execute_result"
    }
   ],
   "source": [
    "result₁ = [u₁ * (u₁ - u₂) + u₂ * (-u₁ + 2 * u₂)]"
   ]
  },
  {
   "cell_type": "markdown",
   "metadata": {},
   "source": [
    "### The result is:\n",
    "\n",
    "$$u^T \\cdot T₂ \\cdot u = u₁^2 - 2u₁u₂ + u₂^2 $$\n",
    "\n",
    "### Or you can see it by diff\n",
    "\n",
    "$$u^T \\cdot T₂ \\cdot u - (u₁^2 - 2u₁u₂ + u₂^2) = 0 $$"
   ]
  },
  {
   "cell_type": "markdown",
   "metadata": {},
   "source": [
    "#### If result is equal, difference is equal zero"
   ]
  },
  {
   "cell_type": "code",
   "execution_count": 55,
   "metadata": {},
   "outputs": [
    {
     "data": {
      "text/plain": [
       "\u001b[32m\u001b[1mTest Passed\u001b[22m\u001b[39m"
      ]
     },
     "execution_count": 55,
     "metadata": {},
     "output_type": "execute_result"
    }
   ],
   "source": [
    "@test u⁺T₂u[1] - result₁[1] == 0"
   ]
  },
  {
   "cell_type": "markdown",
   "metadata": {},
   "source": [
    "# Task \\#3\n",
    "### Produce Circulant matrix C"
   ]
  },
  {
   "cell_type": "code",
   "execution_count": 34,
   "metadata": {},
   "outputs": [
    {
     "data": {
      "text/plain": [
       "3×3 Array{Int64,2}:\n",
       "  1  -1   0\n",
       "  0   1  -1\n",
       " -1   0   1"
      ]
     },
     "execution_count": 34,
     "metadata": {},
     "output_type": "execute_result"
    }
   ],
   "source": [
    "A = [\n",
    "  1 -1 0\n",
    "  0 1 -1\n",
    "  -1 0 1\n",
    "]"
   ]
  },
  {
   "cell_type": "code",
   "execution_count": 33,
   "metadata": {},
   "outputs": [
    {
     "data": {
      "text/plain": [
       "3×3 Array{Int64,2}:\n",
       "  2  -1  -1\n",
       " -1   2  -1\n",
       " -1  -1   2"
      ]
     },
     "execution_count": 33,
     "metadata": {},
     "output_type": "execute_result"
    }
   ],
   "source": [
    "C = (A') * A"
   ]
  },
  {
   "cell_type": "code",
   "execution_count": 47,
   "metadata": {},
   "outputs": [
    {
     "data": {
      "text/plain": [
       "3-element Array{Int64,1}:\n",
       " 0\n",
       " 0\n",
       " 0"
      ]
     },
     "execution_count": 47,
     "metadata": {},
     "output_type": "execute_result"
    }
   ],
   "source": [
    "z = zeros(Int, 3)"
   ]
  },
  {
   "cell_type": "markdown",
   "metadata": {},
   "source": [
    "$$ \n",
    " \\begin{bmatrix}\n",
    "  a_{11} \\\\\n",
    "  a_{21} \\\\\n",
    "  a_{31}\n",
    " \\end{bmatrix} + \\begin{bmatrix}\n",
    "  a_{12} \\\\\n",
    "  a_{22} \\\\\n",
    "  a_{32}\n",
    " \\end{bmatrix} + \\begin{bmatrix}\n",
    "  a_{13} \\\\\n",
    "  a_{23} \\\\\n",
    "  a_{33}\n",
    " \\end{bmatrix} = \\begin{bmatrix}\n",
    "  0 \\\\\n",
    "  0 \\\\\n",
    "  0\n",
    " \\end{bmatrix}\n",
    "$$"
   ]
  },
  {
   "cell_type": "code",
   "execution_count": 49,
   "metadata": {},
   "outputs": [
    {
     "data": {
      "text/plain": [
       "\u001b[32m\u001b[1mTest Passed\u001b[22m\u001b[39m"
      ]
     },
     "execution_count": 49,
     "metadata": {},
     "output_type": "execute_result"
    }
   ],
   "source": [
    "@test A[1:3] + A[4:6] + A[7:9] == z"
   ]
  },
  {
   "cell_type": "markdown",
   "metadata": {},
   "source": [
    "#### The same for C\n",
    "\n",
    "$$ \n",
    " \\begin{bmatrix}\n",
    "  c_{11} \\\\\n",
    "  c_{21} \\\\\n",
    "  c_{31}\n",
    " \\end{bmatrix} + \\begin{bmatrix}\n",
    "  c_{12} \\\\\n",
    "  c_{22} \\\\\n",
    "  c_{32}\n",
    " \\end{bmatrix} + \\begin{bmatrix}\n",
    "  c_{13} \\\\\n",
    "  c_{23} \\\\\n",
    "  c_{33}\n",
    " \\end{bmatrix} = \\begin{bmatrix}\n",
    "  0 \\\\\n",
    "  0 \\\\\n",
    "  0\n",
    " \\end{bmatrix}\n",
    "$$"
   ]
  },
  {
   "cell_type": "code",
   "execution_count": 51,
   "metadata": {},
   "outputs": [
    {
     "data": {
      "text/plain": [
       "\u001b[32m\u001b[1mTest Passed\u001b[22m\u001b[39m"
      ]
     },
     "execution_count": 51,
     "metadata": {},
     "output_type": "execute_result"
    }
   ],
   "source": [
    "@test C[1:3] + C[4:6] + C[7:9] == z"
   ]
  },
  {
   "cell_type": "markdown",
   "metadata": {},
   "source": [
    "#### Find the vector u"
   ]
  },
  {
   "cell_type": "code",
   "execution_count": 53,
   "metadata": {},
   "outputs": [
    {
     "data": {
      "text/plain": [
       "\u001b[32m\u001b[1mTest Passed\u001b[22m\u001b[39m"
      ]
     },
     "execution_count": 53,
     "metadata": {},
     "output_type": "execute_result"
    }
   ],
   "source": [
    "u = ones(Int, 3) # <- solution\n",
    "\n",
    "@test A * u == z"
   ]
  },
  {
   "cell_type": "markdown",
   "metadata": {},
   "source": [
    "#### C is not Positive definite for Cholesky"
   ]
  },
  {
   "cell_type": "code",
   "execution_count": 54,
   "metadata": {},
   "outputs": [
    {
     "data": {
      "text/plain": [
       "\u001b[32m\u001b[1mTest Passed\u001b[22m\u001b[39m\n",
       "      Thrown: PosDefException"
      ]
     },
     "execution_count": 54,
     "metadata": {},
     "output_type": "execute_result"
    }
   ],
   "source": [
    "@test_throws PosDefException cholesky(C)"
   ]
  }
 ],
 "metadata": {
  "kernelspec": {
   "display_name": "Julia 1.5.3",
   "language": "julia",
   "name": "julia-1.5"
  },
  "language_info": {
   "file_extension": ".jl",
   "mimetype": "application/julia",
   "name": "julia",
   "version": "1.5.3"
  }
 },
 "nbformat": 4,
 "nbformat_minor": 2
}
