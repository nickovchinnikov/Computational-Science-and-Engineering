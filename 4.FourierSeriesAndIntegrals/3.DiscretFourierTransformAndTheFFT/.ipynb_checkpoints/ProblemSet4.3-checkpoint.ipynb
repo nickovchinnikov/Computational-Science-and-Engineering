{
 "cells": [
  {
   "cell_type": "code",
   "execution_count": 1,
   "metadata": {},
   "outputs": [],
   "source": [
    "import sympy\n",
    "from sympy import I, conjugate, pi, oo\n",
    "from sympy.functions import exp\n",
    "from sympy.matrices import Identity, MatrixSymbol\n",
    "import numpy as np"
   ]
  },
  {
   "cell_type": "markdown",
   "metadata": {},
   "source": [
    "# \\#3"
   ]
  },
  {
   "cell_type": "markdown",
   "metadata": {},
   "source": [
    "## Fourier matrix with $\\omega$"
   ]
  },
  {
   "cell_type": "code",
   "execution_count": 2,
   "metadata": {},
   "outputs": [
    {
     "data": {
      "text/latex": [
       "$\\displaystyle \\left[\\begin{matrix}1 & 1 & 1 & 1\\\\1 & \\omega & \\omega^{2} & \\omega^{3}\\\\1 & \\omega^{2} & \\omega^{4} & \\omega^{6}\\\\1 & \\omega^{3} & \\omega^{6} & \\omega^{9}\\end{matrix}\\right]$"
      ],
      "text/plain": [
       "Matrix([\n",
       "[1,        1,        1,        1],\n",
       "[1,    omega, omega**2, omega**3],\n",
       "[1, omega**2, omega**4, omega**6],\n",
       "[1, omega**3, omega**6, omega**9]])"
      ]
     },
     "execution_count": 2,
     "metadata": {},
     "output_type": "execute_result"
    }
   ],
   "source": [
    "w = sympy.Symbol(\"omega\")\n",
    "\n",
    "def omega(idx):\n",
    "    return w ** (idx)\n",
    "\n",
    "def fourierGenerator(N):\n",
    "    return sympy.Matrix(N, N, lambda m, n: omega(m * n))\n",
    "\n",
    "assert fourierGenerator(2) == sympy.Matrix([[1, 1], [1, w]])\n",
    "\n",
    "fourierGenerator(4)"
   ]
  },
  {
   "cell_type": "markdown",
   "metadata": {},
   "source": [
    "## Complex conjugate F"
   ]
  },
  {
   "cell_type": "code",
   "execution_count": 3,
   "metadata": {},
   "outputs": [
    {
     "data": {
      "text/latex": [
       "$\\displaystyle \\left[\\begin{matrix}1 & 1 & 1 & 1\\\\1 & \\overline{\\omega} & \\overline{\\omega}^{2} & \\overline{\\omega}^{3}\\\\1 & \\overline{\\omega}^{2} & \\overline{\\omega}^{4} & \\overline{\\omega}^{6}\\\\1 & \\overline{\\omega}^{3} & \\overline{\\omega}^{6} & \\overline{\\omega}^{9}\\end{matrix}\\right]$"
      ],
      "text/plain": [
       "Matrix([\n",
       "[1,                   1,                   1,                   1],\n",
       "[1,    conjugate(omega), conjugate(omega)**2, conjugate(omega)**3],\n",
       "[1, conjugate(omega)**2, conjugate(omega)**4, conjugate(omega)**6],\n",
       "[1, conjugate(omega)**3, conjugate(omega)**6, conjugate(omega)**9]])"
      ]
     },
     "execution_count": 3,
     "metadata": {},
     "output_type": "execute_result"
    }
   ],
   "source": [
    "conjugate(fourierGenerator(4))"
   ]
  },
  {
   "cell_type": "markdown",
   "metadata": {},
   "source": [
    "## Substitute $\\omega=e^\\frac{i2{\\pi}mn}{N}$"
   ]
  },
  {
   "cell_type": "code",
   "execution_count": 4,
   "metadata": {},
   "outputs": [],
   "source": [
    "def omegaSubstirution(idx, N):\n",
    "    return sympy.exp((I * 2 * pi * idx)/N)\n",
    "\n",
    "assert omegaSubstirution(1, 4) == I"
   ]
  },
  {
   "cell_type": "markdown",
   "metadata": {},
   "source": [
    "## Generate Fourier matrix with values"
   ]
  },
  {
   "cell_type": "code",
   "execution_count": 5,
   "metadata": {},
   "outputs": [
    {
     "data": {
      "text/latex": [
       "$\\displaystyle \\left[\\begin{matrix}1 & 1 & 1 & 1\\\\1 & i & -1 & - i\\\\1 & -1 & 1 & -1\\\\1 & - i & -1 & i\\end{matrix}\\right]$"
      ],
      "text/plain": [
       "Matrix([\n",
       "[1,  1,  1,  1],\n",
       "[1,  I, -1, -I],\n",
       "[1, -1,  1, -1],\n",
       "[1, -I, -1,  I]])"
      ]
     },
     "execution_count": 5,
     "metadata": {},
     "output_type": "execute_result"
    }
   ],
   "source": [
    "def fourierGeneratorWithExp(N):\n",
    "    return sympy.Matrix(N, N, lambda m, n: omegaSubstirution(m * n, N))\n",
    "\n",
    "assert fourierGeneratorWithExp(2) == sympy.Matrix([[1, 1], [1, -1]])\n",
    "\n",
    "F4 = fourierGeneratorWithExp(4)\n",
    "\n",
    "F4"
   ]
  },
  {
   "cell_type": "markdown",
   "metadata": {},
   "source": [
    "## Matrix conjugate"
   ]
  },
  {
   "cell_type": "code",
   "execution_count": 6,
   "metadata": {},
   "outputs": [
    {
     "data": {
      "text/latex": [
       "$\\displaystyle \\left[\\begin{matrix}1 & 1 & 1 & 1\\\\1 & - i & -1 & i\\\\1 & -1 & 1 & -1\\\\1 & i & -1 & - i\\end{matrix}\\right]$"
      ],
      "text/plain": [
       "Matrix([\n",
       "[1,  1,  1,  1],\n",
       "[1, -I, -1,  I],\n",
       "[1, -1,  1, -1],\n",
       "[1,  I, -1, -I]])"
      ]
     },
     "execution_count": 6,
     "metadata": {},
     "output_type": "execute_result"
    }
   ],
   "source": [
    "F4Conj = conjugate(F4)\n",
    "\n",
    "assert Identity(4).as_explicit() == (1/4) * F4 * F4Conj\n",
    "\n",
    "F4Conj"
   ]
  },
  {
   "cell_type": "markdown",
   "metadata": {},
   "source": [
    "## Conjugate generator with $\\omega$"
   ]
  },
  {
   "cell_type": "code",
   "execution_count": 7,
   "metadata": {},
   "outputs": [
    {
     "data": {
      "text/latex": [
       "$\\displaystyle \\left[\\begin{matrix}1 & 1 & 1 & 1\\\\1 & \\omega^{3} & \\omega^{6} & \\omega^{9}\\\\1 & \\omega^{2} & \\omega^{4} & \\omega^{6}\\\\1 & \\omega & \\omega^{2} & \\omega^{3}\\end{matrix}\\right]$"
      ],
      "text/plain": [
       "Matrix([\n",
       "[1,        1,        1,        1],\n",
       "[1, omega**3, omega**6, omega**9],\n",
       "[1, omega**2, omega**4, omega**6],\n",
       "[1,    omega, omega**2, omega**3]])"
      ]
     },
     "execution_count": 7,
     "metadata": {},
     "output_type": "execute_result"
    }
   ],
   "source": [
    "def fourierConjGenerator(N):\n",
    "    return sympy.Matrix(N, N, lambda m, n: omega(0 if m == 0 else (N - m) * n))\n",
    "\n",
    "fourierConjGenerator(4)"
   ]
  },
  {
   "cell_type": "markdown",
   "metadata": {},
   "source": [
    "## Conjugate generator with values"
   ]
  },
  {
   "cell_type": "code",
   "execution_count": 8,
   "metadata": {},
   "outputs": [
    {
     "data": {
      "text/latex": [
       "$\\displaystyle \\left[\\begin{matrix}1 & 1 & 1 & 1\\\\1 & - i & -1 & i\\\\1 & -1 & 1 & -1\\\\1 & i & -1 & - i\\end{matrix}\\right]$"
      ],
      "text/plain": [
       "Matrix([\n",
       "[1,  1,  1,  1],\n",
       "[1, -I, -1,  I],\n",
       "[1, -1,  1, -1],\n",
       "[1,  I, -1, -I]])"
      ]
     },
     "execution_count": 8,
     "metadata": {},
     "output_type": "execute_result"
    }
   ],
   "source": [
    "def fourierConjGeneratorWithExp(N):\n",
    "    return sympy.Matrix(N, N, lambda m, n: omegaSubstirution(0 if m == 0 else (N - m) * n, N))\n",
    "\n",
    "F4ConjWithExp = fourierConjGeneratorWithExp(4)\n",
    "\n",
    "assert F4Conj == F4ConjWithExp\n",
    "\n",
    "F4ConjWithExp"
   ]
  },
  {
   "cell_type": "markdown",
   "metadata": {},
   "source": [
    "## Permutation Generator"
   ]
  },
  {
   "cell_type": "code",
   "execution_count": 9,
   "metadata": {},
   "outputs": [
    {
     "data": {
      "text/plain": [
       "array([[1, 0, 0, 0],\n",
       "       [0, 0, 0, 1],\n",
       "       [0, 0, 1, 0],\n",
       "       [0, 1, 0, 0]])"
      ]
     },
     "execution_count": 9,
     "metadata": {},
     "output_type": "execute_result"
    }
   ],
   "source": [
    "def generatePermutationMatrix(N):\n",
    "    return np.vstack((\n",
    "    np.hstack((np.array([1]), np.zeros(N-1, dtype=int))),\n",
    "    np.zeros((N-1, N), dtype=int)\n",
    ")) + np.fliplr(np.diagflat(np.ones(N - 1, dtype=int), -1))\n",
    "\n",
    "assert np.all(generatePermutationMatrix(4) == np.array([\n",
    "    [1, 0, 0, 0],\n",
    "    [0, 0, 0, 1],\n",
    "    [0, 0, 1, 0],\n",
    "    [0, 1, 0, 0]\n",
    "]))\n",
    "\n",
    "generatePermutationMatrix(4)"
   ]
  },
  {
   "cell_type": "markdown",
   "metadata": {},
   "source": [
    "## $$F=P{\\cdot}\\overline{F}$$"
   ]
  },
  {
   "cell_type": "code",
   "execution_count": 10,
   "metadata": {},
   "outputs": [
    {
     "data": {
      "text/latex": [
       "$\\displaystyle \\left[\\begin{matrix}1 & 1 & 1 & 1\\\\1 & i & -1 & - i\\\\1 & -1 & 1 & -1\\\\1 & - i & -1 & i\\end{matrix}\\right]$"
      ],
      "text/plain": [
       "Matrix([\n",
       "[1,  1,  1,  1],\n",
       "[1,  I, -1, -I],\n",
       "[1, -1,  1, -1],\n",
       "[1, -I, -1,  I]])"
      ]
     },
     "execution_count": 10,
     "metadata": {},
     "output_type": "execute_result"
    }
   ],
   "source": [
    "P4 = generatePermutationMatrix(4)\n",
    "\n",
    "assert F4 == P4 * F4Conj\n",
    "\n",
    "P4 * F4Conj"
   ]
  },
  {
   "cell_type": "markdown",
   "metadata": {},
   "source": [
    "## $$P^2 = I$$"
   ]
  },
  {
   "cell_type": "code",
   "execution_count": 11,
   "metadata": {},
   "outputs": [],
   "source": [
    "assert np.all(np.linalg.matrix_power(P4, 2) == np.identity(4, dtype=int))"
   ]
  },
  {
   "cell_type": "markdown",
   "metadata": {},
   "source": [
    "## $$\\frac{1}{N}{\\cdot}F^2 = P$$"
   ]
  },
  {
   "cell_type": "code",
   "execution_count": 12,
   "metadata": {},
   "outputs": [],
   "source": [
    "assert np.all(((1/4) * np.linalg.matrix_power(F4, 2)).astype(int) == P4)"
   ]
  },
  {
   "cell_type": "markdown",
   "metadata": {},
   "source": [
    "# \\#4"
   ]
  },
  {
   "cell_type": "code",
   "execution_count": 13,
   "metadata": {},
   "outputs": [
    {
     "data": {
      "text/latex": [
       "$\\displaystyle \\left[\\begin{matrix}1 & 0 & 1 & 0\\\\0 & 1 & 0 & i\\\\1 & 0 & -1 & 0\\\\0 & 1 & 0 & - i\\end{matrix}\\right]$"
      ],
      "text/plain": [
       "Matrix([\n",
       "[1, 0,  1,  0],\n",
       "[0, 1,  0,  I],\n",
       "[1, 0, -1,  0],\n",
       "[0, 1,  0, -I]])"
      ]
     },
     "execution_count": 13,
     "metadata": {},
     "output_type": "execute_result"
    }
   ],
   "source": [
    "ID = sympy.Matrix(\n",
    "    np.hstack((\n",
    "        np.vstack((\n",
    "            np.identity(2, dtype=int),\n",
    "            np.identity(2, dtype=int)\n",
    "        )),\n",
    "        np.vstack((\n",
    "            np.identity(2, dtype=int) * np.diag(F4)[0:2],\n",
    "            -np.identity(2, dtype=int) * np.diag(F4)[0:2]\n",
    "        ))\n",
    "    ))\n",
    ")\n",
    "\n",
    "ID\n"
   ]
  },
  {
   "cell_type": "code",
   "execution_count": 14,
   "metadata": {},
   "outputs": [
    {
     "data": {
      "text/latex": [
       "$\\displaystyle \\left[\\begin{matrix}\\frac{1}{2} & 0 & \\frac{1}{2} & 0\\\\0 & \\frac{1}{2} & 0 & \\frac{1}{2}\\\\\\frac{1}{2} & 0 & - \\frac{1}{2} & 0\\\\0 & - \\frac{i}{2} & 0 & \\frac{i}{2}\\end{matrix}\\right]$"
      ],
      "text/plain": [
       "Matrix([\n",
       "[1/2,    0,  1/2,   0],\n",
       "[  0,  1/2,    0, 1/2],\n",
       "[1/2,    0, -1/2,   0],\n",
       "[  0, -I/2,    0, I/2]])"
      ]
     },
     "execution_count": 14,
     "metadata": {},
     "output_type": "execute_result"
    }
   ],
   "source": [
    "ID.inv()"
   ]
  },
  {
   "cell_type": "code",
   "execution_count": 15,
   "metadata": {},
   "outputs": [
    {
     "data": {
      "text/latex": [
       "$\\displaystyle \\left[\\begin{matrix}1 & 1 & 0 & 0\\\\1 & -1 & 0 & 0\\\\0 & 0 & 1 & 1\\\\0 & 0 & 1 & -1\\end{matrix}\\right]$"
      ],
      "text/plain": [
       "Matrix([\n",
       "[1,  1, 0,  0],\n",
       "[1, -1, 0,  0],\n",
       "[0,  0, 1,  1],\n",
       "[0,  0, 1, -1]])"
      ]
     },
     "execution_count": 15,
     "metadata": {},
     "output_type": "execute_result"
    }
   ],
   "source": [
    "F2 = fourierGeneratorWithExp(2)\n",
    "Zeros2 = np.zeros((2, 2), dtype=int)\n",
    "\n",
    "F22 = sympy.Matrix(\n",
    "    np.array(\n",
    "        np.vstack((\n",
    "            np.hstack((F2, Zeros2)),\n",
    "            np.hstack((Zeros2, F2))\n",
    "        ))\n",
    "    )\n",
    ")\n",
    "\n",
    "F22"
   ]
  },
  {
   "cell_type": "code",
   "execution_count": 16,
   "metadata": {},
   "outputs": [
    {
     "data": {
      "text/latex": [
       "$\\displaystyle \\left[\\begin{matrix}\\frac{1}{2} & \\frac{1}{2} & 0 & 0\\\\\\frac{1}{2} & - \\frac{1}{2} & 0 & 0\\\\0 & 0 & \\frac{1}{2} & \\frac{1}{2}\\\\0 & 0 & \\frac{1}{2} & - \\frac{1}{2}\\end{matrix}\\right]$"
      ],
      "text/plain": [
       "Matrix([\n",
       "[1/2,  1/2,   0,    0],\n",
       "[1/2, -1/2,   0,    0],\n",
       "[  0,    0, 1/2,  1/2],\n",
       "[  0,    0, 1/2, -1/2]])"
      ]
     },
     "execution_count": 16,
     "metadata": {},
     "output_type": "execute_result"
    }
   ],
   "source": [
    "F22.inv()"
   ]
  },
  {
   "cell_type": "code",
   "execution_count": 17,
   "metadata": {},
   "outputs": [
    {
     "data": {
      "text/latex": [
       "$\\displaystyle \\left[\\begin{matrix}1 & 0 & 0 & 0\\\\0 & 0 & 1 & 0\\\\0 & 1 & 0 & 0\\\\0 & 0 & 0 & 1\\end{matrix}\\right]$"
      ],
      "text/plain": [
       "Matrix([\n",
       "[1, 0, 0, 0],\n",
       "[0, 0, 1, 0],\n",
       "[0, 1, 0, 0],\n",
       "[0, 0, 0, 1]])"
      ]
     },
     "execution_count": 17,
     "metadata": {},
     "output_type": "execute_result"
    }
   ],
   "source": [
    "EvenOddP = sympy.Matrix([\n",
    "    [1, 0, 0, 0],\n",
    "    [0, 0, 1, 0],\n",
    "    [0, 1, 0, 0],\n",
    "    [0, 0, 0, 1]\n",
    "])\n",
    "EvenOddP"
   ]
  },
  {
   "cell_type": "code",
   "execution_count": 18,
   "metadata": {},
   "outputs": [
    {
     "data": {
      "text/latex": [
       "$\\displaystyle \\left[\\begin{matrix}1 & 1 & 1 & 1\\\\1 & i & -1 & - i\\\\1 & -1 & 1 & -1\\\\1 & - i & -1 & i\\end{matrix}\\right]$"
      ],
      "text/plain": [
       "Matrix([\n",
       "[1,  1,  1,  1],\n",
       "[1,  I, -1, -I],\n",
       "[1, -1,  1, -1],\n",
       "[1, -I, -1,  I]])"
      ]
     },
     "execution_count": 18,
     "metadata": {},
     "output_type": "execute_result"
    }
   ],
   "source": [
    "assert ID * F22 * EvenOddP * F4\n",
    "\n",
    "ID * F22 * EvenOddP"
   ]
  },
  {
   "cell_type": "code",
   "execution_count": 19,
   "metadata": {},
   "outputs": [
    {
     "data": {
      "text/latex": [
       "$\\displaystyle \\left[\\begin{matrix}1 & 1 & 1 & 1\\\\1 & i & -1 & - i\\\\1 & -1 & 1 & -1\\\\1 & - i & -1 & i\\end{matrix}\\right]$"
      ],
      "text/plain": [
       "Matrix([\n",
       "[1,  1,  1,  1],\n",
       "[1,  I, -1, -I],\n",
       "[1, -1,  1, -1],\n",
       "[1, -I, -1,  I]])"
      ]
     },
     "execution_count": 19,
     "metadata": {},
     "output_type": "execute_result"
    }
   ],
   "source": [
    "F4"
   ]
  },
  {
   "cell_type": "code",
   "execution_count": 20,
   "metadata": {},
   "outputs": [
    {
     "ename": "NameError",
     "evalue": "name 'FFTResult4' is not defined",
     "output_type": "error",
     "traceback": [
      "\u001b[0;31m---------------------------------------------------------------------------\u001b[0m",
      "\u001b[0;31mNameError\u001b[0m                                 Traceback (most recent call last)",
      "\u001b[0;32m<ipython-input-20-7c7459410e1d>\u001b[0m in \u001b[0;36m<module>\u001b[0;34m\u001b[0m\n\u001b[0;32m----> 1\u001b[0;31m \u001b[0;32massert\u001b[0m \u001b[0msympy\u001b[0m\u001b[0;34m.\u001b[0m\u001b[0mMatrix\u001b[0m\u001b[0;34m(\u001b[0m\u001b[0mFFTResult4\u001b[0m\u001b[0;34m)\u001b[0m \u001b[0;34m==\u001b[0m \u001b[0mF4\u001b[0m\u001b[0;34m\u001b[0m\u001b[0;34m\u001b[0m\u001b[0m\n\u001b[0m",
      "\u001b[0;31mNameError\u001b[0m: name 'FFTResult4' is not defined"
     ]
    }
   ],
   "source": [
    "assert sympy.Matrix(FFTResult4) == F4"
   ]
  },
  {
   "cell_type": "code",
   "execution_count": null,
   "metadata": {},
   "outputs": [],
   "source": []
  }
 ],
 "metadata": {
  "kernelspec": {
   "display_name": "Python 3.9.4 64-bit",
   "language": "python",
   "name": "python394jvsc74a57bd04e1d9a8909477db77738c33245c29c7265277ef753467dede8cf3f814cde494e"
  },
  "language_info": {
   "codemirror_mode": {
    "name": "ipython",
    "version": 3
   },
   "file_extension": ".py",
   "mimetype": "text/x-python",
   "name": "python",
   "nbconvert_exporter": "python",
   "pygments_lexer": "ipython3",
   "version": "3.9.4"
  },
  "metadata": {
   "interpreter": {
    "hash": "767d51c1340bd893661ea55ea3124f6de3c7a262a8b4abca0554b478b1e2ff90"
   }
  }
 },
 "nbformat": 4,
 "nbformat_minor": 2
}
