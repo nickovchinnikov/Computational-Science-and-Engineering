{
 "cells": [
  {
   "cell_type": "code",
   "execution_count": 1,
   "metadata": {},
   "outputs": [],
   "source": [
    "import sympy\n",
    "from sympy import I, conjugate, pi, oo\n",
    "from sympy.functions import exp\n",
    "from sympy.matrices import Identity, MatrixSymbol\n",
    "import numpy as np"
   ]
  },
  {
   "cell_type": "markdown",
   "metadata": {},
   "source": [
    "# \\#3"
   ]
  },
  {
   "cell_type": "markdown",
   "metadata": {},
   "source": [
    "## Fourier matrix with $\\omega$"
   ]
  },
  {
   "cell_type": "code",
   "execution_count": 2,
   "metadata": {},
   "outputs": [
    {
     "data": {
      "text/latex": [
       "$\\displaystyle \\left[\\begin{matrix}1 & 1 & 1 & 1\\\\1 & \\omega & \\omega^{2} & \\omega^{3}\\\\1 & \\omega^{2} & \\omega^{4} & \\omega^{6}\\\\1 & \\omega^{3} & \\omega^{6} & \\omega^{9}\\end{matrix}\\right]$"
      ],
      "text/plain": [
       "Matrix([\n",
       "[1,        1,        1,        1],\n",
       "[1,    omega, omega**2, omega**3],\n",
       "[1, omega**2, omega**4, omega**6],\n",
       "[1, omega**3, omega**6, omega**9]])"
      ]
     },
     "execution_count": 2,
     "metadata": {},
     "output_type": "execute_result"
    }
   ],
   "source": [
    "ω = sympy.Symbol(\"omega\")\n",
    "\n",
    "def omegaPow(idx):\n",
    "    return ω**(idx) \n",
    "\n",
    "def fourierGenerator(N):\n",
    "    return sympy.Matrix(N, N, lambda m, n: omegaPow(m * n))\n",
    "\n",
    "assert fourierGenerator(2) == sympy.Matrix([[1, 1], [1, ω]])\n",
    "\n",
    "fourierGenerator(4)"
   ]
  },
  {
   "cell_type": "code",
   "execution_count": 3,
   "metadata": {},
   "outputs": [
    {
     "data": {
      "text/latex": [
       "$\\displaystyle \\left[\\begin{matrix}1 & 1 & 1 & 1\\\\1 & \\omega & \\omega^{2} & \\omega^{3}\\\\1 & \\omega^{2} & \\omega^{4} & \\omega^{6}\\\\1 & \\omega^{3} & \\omega^{6} & \\omega^{9}\\end{matrix}\\right]$"
      ],
      "text/plain": [
       "Matrix([\n",
       "[1,        1,        1,        1],\n",
       "[1,    omega, omega**2, omega**3],\n",
       "[1, omega**2, omega**4, omega**6],\n",
       "[1, omega**3, omega**6, omega**9]])"
      ]
     },
     "execution_count": 3,
     "metadata": {},
     "output_type": "execute_result"
    }
   ],
   "source": [
    "fourierGenerator(4)"
   ]
  },
  {
   "cell_type": "markdown",
   "metadata": {},
   "source": [
    "## Complex conjugate F"
   ]
  },
  {
   "cell_type": "code",
   "execution_count": 4,
   "metadata": {},
   "outputs": [
    {
     "data": {
      "text/latex": [
       "$\\displaystyle \\left[\\begin{matrix}1 & 1 & 1 & 1\\\\1 & \\overline{\\omega} & \\overline{\\omega}^{2} & \\overline{\\omega}^{3}\\\\1 & \\overline{\\omega}^{2} & \\overline{\\omega}^{4} & \\overline{\\omega}^{6}\\\\1 & \\overline{\\omega}^{3} & \\overline{\\omega}^{6} & \\overline{\\omega}^{9}\\end{matrix}\\right]$"
      ],
      "text/plain": [
       "Matrix([\n",
       "[1,                   1,                   1,                   1],\n",
       "[1,    conjugate(omega), conjugate(omega)**2, conjugate(omega)**3],\n",
       "[1, conjugate(omega)**2, conjugate(omega)**4, conjugate(omega)**6],\n",
       "[1, conjugate(omega)**3, conjugate(omega)**6, conjugate(omega)**9]])"
      ]
     },
     "execution_count": 4,
     "metadata": {},
     "output_type": "execute_result"
    }
   ],
   "source": [
    "conjugate(fourierGenerator(4))"
   ]
  },
  {
   "cell_type": "markdown",
   "metadata": {},
   "source": [
    "## Substitute $\\omega=e^\\frac{i2{\\pi}mn}{N}$"
   ]
  },
  {
   "cell_type": "code",
   "execution_count": 5,
   "metadata": {},
   "outputs": [],
   "source": [
    "def omegaSubstirution(idx, N):\n",
    "    return sympy.exp((I * 2 * pi * idx) / N)\n",
    "\n",
    "\n",
    "assert omegaSubstirution(1, 4) == I\n",
    "assert omegaSubstirution(8, 8) == 1\n",
    "assert omegaSubstirution(3, 6) == -1"
   ]
  },
  {
   "cell_type": "markdown",
   "metadata": {},
   "source": [
    "## Generate Fourier matrix with values"
   ]
  },
  {
   "cell_type": "code",
   "execution_count": 6,
   "metadata": {},
   "outputs": [
    {
     "data": {
      "text/latex": [
       "$\\displaystyle \\left[\\begin{matrix}1 & 1 & 1 & 1\\\\1 & i & -1 & - i\\\\1 & -1 & 1 & -1\\\\1 & - i & -1 & i\\end{matrix}\\right]$"
      ],
      "text/plain": [
       "Matrix([\n",
       "[1,  1,  1,  1],\n",
       "[1,  I, -1, -I],\n",
       "[1, -1,  1, -1],\n",
       "[1, -I, -1,  I]])"
      ]
     },
     "execution_count": 6,
     "metadata": {},
     "output_type": "execute_result"
    }
   ],
   "source": [
    "def fourierGeneratorWithExp(N):\n",
    "    return sympy.Matrix(N, N, lambda m, n: omegaSubstirution(m * n, N))\n",
    "\n",
    "\n",
    "assert fourierGeneratorWithExp(2) == sympy.Matrix([[1, 1], [1, -1]])\n",
    "\n",
    "F4 = fourierGeneratorWithExp(4)\n",
    "\n",
    "F4"
   ]
  },
  {
   "cell_type": "markdown",
   "metadata": {},
   "source": [
    "## Matrix conjugate"
   ]
  },
  {
   "cell_type": "code",
   "execution_count": 7,
   "metadata": {},
   "outputs": [
    {
     "data": {
      "text/latex": [
       "$\\displaystyle \\left[\\begin{matrix}1 & 1 & 1 & 1\\\\1 & - i & -1 & i\\\\1 & -1 & 1 & -1\\\\1 & i & -1 & - i\\end{matrix}\\right]$"
      ],
      "text/plain": [
       "Matrix([\n",
       "[1,  1,  1,  1],\n",
       "[1, -I, -1,  I],\n",
       "[1, -1,  1, -1],\n",
       "[1,  I, -1, -I]])"
      ]
     },
     "execution_count": 7,
     "metadata": {},
     "output_type": "execute_result"
    }
   ],
   "source": [
    "F4Conj = conjugate(F4)\n",
    "\n",
    "assert Identity(4).as_explicit() == (1 / 4) * F4 * F4Conj\n",
    "\n",
    "F4Conj"
   ]
  },
  {
   "cell_type": "markdown",
   "metadata": {},
   "source": [
    "## Conjugate generator with $\\omega$"
   ]
  },
  {
   "cell_type": "code",
   "execution_count": 8,
   "metadata": {},
   "outputs": [
    {
     "data": {
      "text/latex": [
       "$\\displaystyle \\left[\\begin{matrix}1 & 1 & 1 & 1\\\\1 & \\omega^{3} & \\omega^{6} & \\omega^{9}\\\\1 & \\omega^{2} & \\omega^{4} & \\omega^{6}\\\\1 & \\omega & \\omega^{2} & \\omega^{3}\\end{matrix}\\right]$"
      ],
      "text/plain": [
       "Matrix([\n",
       "[1,        1,        1,        1],\n",
       "[1, omega**3, omega**6, omega**9],\n",
       "[1, omega**2, omega**4, omega**6],\n",
       "[1,    omega, omega**2, omega**3]])"
      ]
     },
     "execution_count": 8,
     "metadata": {},
     "output_type": "execute_result"
    }
   ],
   "source": [
    "def fourierConjGenerator(N):\n",
    "    return sympy.Matrix(N, N, lambda m, n: omegaPow(0 if m == 0 else (N - m) * n))\n",
    "\n",
    "\n",
    "fourierConjGenerator(4)"
   ]
  },
  {
   "cell_type": "markdown",
   "metadata": {},
   "source": [
    "## Conjugate generator with values"
   ]
  },
  {
   "cell_type": "code",
   "execution_count": 9,
   "metadata": {},
   "outputs": [
    {
     "data": {
      "text/latex": [
       "$\\displaystyle \\left[\\begin{matrix}1 & 1 & 1 & 1\\\\1 & - i & -1 & i\\\\1 & -1 & 1 & -1\\\\1 & i & -1 & - i\\end{matrix}\\right]$"
      ],
      "text/plain": [
       "Matrix([\n",
       "[1,  1,  1,  1],\n",
       "[1, -I, -1,  I],\n",
       "[1, -1,  1, -1],\n",
       "[1,  I, -1, -I]])"
      ]
     },
     "execution_count": 9,
     "metadata": {},
     "output_type": "execute_result"
    }
   ],
   "source": [
    "def fourierConjGeneratorWithExp(N):\n",
    "    return sympy.Matrix(\n",
    "        N, N, lambda m, n: omegaSubstirution(0 if m == 0 else (N - m) * n, N))\n",
    "\n",
    "\n",
    "F4ConjWithExp = fourierConjGeneratorWithExp(4)\n",
    "\n",
    "assert F4Conj == F4ConjWithExp\n",
    "\n",
    "F4ConjWithExp"
   ]
  },
  {
   "cell_type": "markdown",
   "metadata": {},
   "source": [
    "## Permutation Generator"
   ]
  },
  {
   "cell_type": "code",
   "execution_count": 10,
   "metadata": {
    "scrolled": true
   },
   "outputs": [
    {
     "data": {
      "text/plain": [
       "array([[1, 0, 0, 0],\n",
       "       [0, 0, 0, 1],\n",
       "       [0, 0, 1, 0],\n",
       "       [0, 1, 0, 0]])"
      ]
     },
     "execution_count": 10,
     "metadata": {},
     "output_type": "execute_result"
    }
   ],
   "source": [
    "def generatePermutationMatrix(N):\n",
    "    return np.vstack((np.hstack((np.array([1]), np.zeros(\n",
    "        N - 1, dtype=int))), np.zeros((N - 1, N), dtype=int))) + np.fliplr(\n",
    "            np.diagflat(np.ones(N - 1, dtype=int), -1))\n",
    "\n",
    "\n",
    "assert np.all(\n",
    "    generatePermutationMatrix(4) == np.array([[1, 0, 0, 0], [0, 0, 0, 1],\n",
    "                                              [0, 0, 1, 0], [0, 1, 0, 0]]))\n",
    "\n",
    "generatePermutationMatrix(4)"
   ]
  },
  {
   "cell_type": "markdown",
   "metadata": {},
   "source": [
    "## $$F=P{\\cdot}\\overline{F}$$"
   ]
  },
  {
   "cell_type": "code",
   "execution_count": 11,
   "metadata": {},
   "outputs": [
    {
     "data": {
      "text/latex": [
       "$\\displaystyle \\left[\\begin{matrix}1 & 1 & 1 & 1\\\\1 & i & -1 & - i\\\\1 & -1 & 1 & -1\\\\1 & - i & -1 & i\\end{matrix}\\right]$"
      ],
      "text/plain": [
       "Matrix([\n",
       "[1,  1,  1,  1],\n",
       "[1,  I, -1, -I],\n",
       "[1, -1,  1, -1],\n",
       "[1, -I, -1,  I]])"
      ]
     },
     "execution_count": 11,
     "metadata": {},
     "output_type": "execute_result"
    }
   ],
   "source": [
    "P4 = generatePermutationMatrix(4)\n",
    "\n",
    "assert F4 == P4 * F4Conj\n",
    "\n",
    "P4 * F4Conj"
   ]
  },
  {
   "cell_type": "markdown",
   "metadata": {},
   "source": [
    "## $$P^2 = I$$"
   ]
  },
  {
   "cell_type": "code",
   "execution_count": 12,
   "metadata": {},
   "outputs": [],
   "source": [
    "assert np.all(np.linalg.matrix_power(P4, 2) == np.identity(4, dtype=int))"
   ]
  },
  {
   "cell_type": "markdown",
   "metadata": {},
   "source": [
    "## $$\\frac{1}{N}{\\cdot}F^2 = P$$"
   ]
  },
  {
   "cell_type": "code",
   "execution_count": 13,
   "metadata": {},
   "outputs": [],
   "source": [
    "assert np.all(((1 / 4) * np.linalg.matrix_power(F4, 2)).astype(int) == P4)"
   ]
  },
  {
   "cell_type": "markdown",
   "metadata": {},
   "source": [
    "# \\#4"
   ]
  },
  {
   "cell_type": "code",
   "execution_count": 14,
   "metadata": {},
   "outputs": [
    {
     "data": {
      "text/latex": [
       "$\\displaystyle \\left[\\begin{matrix}1 & 0 & 1 & 0\\\\0 & 1 & 0 & i\\\\1 & 0 & -1 & 0\\\\0 & 1 & 0 & - i\\end{matrix}\\right]$"
      ],
      "text/plain": [
       "Matrix([\n",
       "[1, 0,  1,  0],\n",
       "[0, 1,  0,  I],\n",
       "[1, 0, -1,  0],\n",
       "[0, 1,  0, -I]])"
      ]
     },
     "execution_count": 14,
     "metadata": {},
     "output_type": "execute_result"
    }
   ],
   "source": [
    "ID = sympy.Matrix(\n",
    "    np.hstack((np.vstack((np.identity(2, dtype=int), np.identity(2,\n",
    "                                                                 dtype=int))),\n",
    "               np.vstack((np.identity(2, dtype=int) * np.diag(F4)[0:2],\n",
    "                          -np.identity(2, dtype=int) * np.diag(F4)[0:2])))))\n",
    "\n",
    "ID"
   ]
  },
  {
   "cell_type": "code",
   "execution_count": 15,
   "metadata": {},
   "outputs": [
    {
     "data": {
      "text/latex": [
       "$\\displaystyle \\left[\\begin{matrix}\\frac{1}{2} & 0 & \\frac{1}{2} & 0\\\\0 & \\frac{1}{2} & 0 & \\frac{1}{2}\\\\\\frac{1}{2} & 0 & - \\frac{1}{2} & 0\\\\0 & - \\frac{i}{2} & 0 & \\frac{i}{2}\\end{matrix}\\right]$"
      ],
      "text/plain": [
       "Matrix([\n",
       "[1/2,    0,  1/2,   0],\n",
       "[  0,  1/2,    0, 1/2],\n",
       "[1/2,    0, -1/2,   0],\n",
       "[  0, -I/2,    0, I/2]])"
      ]
     },
     "execution_count": 15,
     "metadata": {},
     "output_type": "execute_result"
    }
   ],
   "source": [
    "ID.inv()"
   ]
  },
  {
   "cell_type": "code",
   "execution_count": 16,
   "metadata": {},
   "outputs": [
    {
     "data": {
      "text/latex": [
       "$\\displaystyle \\left[\\begin{matrix}1 & 1 & 0 & 0\\\\1 & -1 & 0 & 0\\\\0 & 0 & 1 & 1\\\\0 & 0 & 1 & -1\\end{matrix}\\right]$"
      ],
      "text/plain": [
       "Matrix([\n",
       "[1,  1, 0,  0],\n",
       "[1, -1, 0,  0],\n",
       "[0,  0, 1,  1],\n",
       "[0,  0, 1, -1]])"
      ]
     },
     "execution_count": 16,
     "metadata": {},
     "output_type": "execute_result"
    }
   ],
   "source": [
    "F2 = fourierGeneratorWithExp(2)\n",
    "Zeros2 = np.zeros((2, 2), dtype=int)\n",
    "\n",
    "F22 = sympy.Matrix(\n",
    "    np.array(np.vstack((np.hstack((F2, Zeros2)), np.hstack((Zeros2, F2))))))\n",
    "\n",
    "F22"
   ]
  },
  {
   "cell_type": "code",
   "execution_count": 17,
   "metadata": {},
   "outputs": [
    {
     "data": {
      "text/latex": [
       "$\\displaystyle \\left[\\begin{matrix}\\frac{1}{2} & \\frac{1}{2} & 0 & 0\\\\\\frac{1}{2} & - \\frac{1}{2} & 0 & 0\\\\0 & 0 & \\frac{1}{2} & \\frac{1}{2}\\\\0 & 0 & \\frac{1}{2} & - \\frac{1}{2}\\end{matrix}\\right]$"
      ],
      "text/plain": [
       "Matrix([\n",
       "[1/2,  1/2,   0,    0],\n",
       "[1/2, -1/2,   0,    0],\n",
       "[  0,    0, 1/2,  1/2],\n",
       "[  0,    0, 1/2, -1/2]])"
      ]
     },
     "execution_count": 17,
     "metadata": {},
     "output_type": "execute_result"
    }
   ],
   "source": [
    "F22.inv()"
   ]
  },
  {
   "cell_type": "code",
   "execution_count": 18,
   "metadata": {},
   "outputs": [
    {
     "data": {
      "text/latex": [
       "$\\displaystyle \\left[\\begin{matrix}1 & 0 & 0 & 0\\\\0 & 0 & 1 & 0\\\\0 & 1 & 0 & 0\\\\0 & 0 & 0 & 1\\end{matrix}\\right]$"
      ],
      "text/plain": [
       "Matrix([\n",
       "[1, 0, 0, 0],\n",
       "[0, 0, 1, 0],\n",
       "[0, 1, 0, 0],\n",
       "[0, 0, 0, 1]])"
      ]
     },
     "execution_count": 18,
     "metadata": {},
     "output_type": "execute_result"
    }
   ],
   "source": [
    "EvenOddP = sympy.Matrix([[1, 0, 0, 0], [0, 0, 1, 0], [0, 1, 0, 0],\n",
    "                         [0, 0, 0, 1]])\n",
    "EvenOddP"
   ]
  },
  {
   "cell_type": "code",
   "execution_count": 19,
   "metadata": {},
   "outputs": [
    {
     "data": {
      "text/latex": [
       "$\\displaystyle \\left[\\begin{matrix}1 & 1 & 1 & 1\\\\1 & i & -1 & - i\\\\1 & -1 & 1 & -1\\\\1 & - i & -1 & i\\end{matrix}\\right]$"
      ],
      "text/plain": [
       "Matrix([\n",
       "[1,  1,  1,  1],\n",
       "[1,  I, -1, -I],\n",
       "[1, -1,  1, -1],\n",
       "[1, -I, -1,  I]])"
      ]
     },
     "execution_count": 19,
     "metadata": {},
     "output_type": "execute_result"
    }
   ],
   "source": [
    "assert ID * F22 * EvenOddP == F4\n",
    "\n",
    "ID * F22 * EvenOddP"
   ]
  },
  {
   "cell_type": "code",
   "execution_count": 20,
   "metadata": {},
   "outputs": [
    {
     "data": {
      "text/latex": [
       "$\\displaystyle \\left[\\begin{matrix}1 & 1 & 1 & 1\\\\1 & i & -1 & - i\\\\1 & -1 & 1 & -1\\\\1 & - i & -1 & i\\end{matrix}\\right]$"
      ],
      "text/plain": [
       "Matrix([\n",
       "[1,  1,  1,  1],\n",
       "[1,  I, -1, -I],\n",
       "[1, -1,  1, -1],\n",
       "[1, -I, -1,  I]])"
      ]
     },
     "execution_count": 20,
     "metadata": {},
     "output_type": "execute_result"
    }
   ],
   "source": [
    "F4"
   ]
  },
  {
   "cell_type": "markdown",
   "metadata": {},
   "source": [
    "# \\#5"
   ]
  },
  {
   "cell_type": "markdown",
   "metadata": {},
   "source": [
    "$$\n",
    " F^{T}_{N} = \n",
    "\\left(\n",
    "    \\begin{bmatrix}\n",
    "       I_{N/2} & D_{N/2}  \\\\[0.3em]\n",
    "       I_{N/2} & -D_{N/2} \\\\[0.3em]\n",
    "     \\end{bmatrix}\n",
    "     \\cdot\n",
    "     \\begin{bmatrix}\n",
    "       F_{N/2} &   \\\\[0.3em]\n",
    "        & F_{N/2} \\\\[0.3em]\n",
    "     \\end{bmatrix}\n",
    "     \\cdot\n",
    "     \\begin{bmatrix}\n",
    "       even_{N/2} & even_{N/2}  \\\\[0.3em]\n",
    "       odd_{N/2} & odd_{N/2} \\\\[0.3em]\n",
    "     \\end{bmatrix}\n",
    " \\right)^T\n",
    "     =\n",
    "    \\begin{bmatrix}\n",
    "       even_{N/2} & odd_{N/2}  \\\\[0.3em]\n",
    "       even_{N/2} & odd_{N/2} \\\\[0.3em]\n",
    "     \\end{bmatrix}\n",
    "    \\cdot\n",
    "    \\begin{bmatrix}\n",
    "        F_{N/2} &   \\\\[0.3em]\n",
    "        & F_{N/2} \\\\[0.3em]\n",
    "    \\end{bmatrix}\n",
    "    \\cdot\n",
    "    \\begin{bmatrix}\n",
    "        I_{N/2} & I_{N/2} \\\\[0.3em]\n",
    "        D_{N/2} & -D_{N/2} \\\\[0.3em]\n",
    "    \\end{bmatrix}\n",
    " $$"
   ]
  },
  {
   "cell_type": "code",
   "execution_count": 21,
   "metadata": {},
   "outputs": [
    {
     "data": {
      "text/latex": [
       "$\\displaystyle \\left[\\begin{matrix}1 & 1 & 1 & 1\\\\1 & i & -1 & - i\\\\1 & -1 & 1 & -1\\\\1 & - i & -1 & i\\end{matrix}\\right]$"
      ],
      "text/plain": [
       "Matrix([\n",
       "[1,  1,  1,  1],\n",
       "[1,  I, -1, -I],\n",
       "[1, -1,  1, -1],\n",
       "[1, -I, -1,  I]])"
      ]
     },
     "execution_count": 21,
     "metadata": {},
     "output_type": "execute_result"
    }
   ],
   "source": [
    "EvenOddP * F22 * sympy.Matrix.transpose(ID)"
   ]
  },
  {
   "cell_type": "code",
   "execution_count": 22,
   "metadata": {},
   "outputs": [
    {
     "data": {
      "text/plain": [
       "True"
      ]
     },
     "execution_count": 22,
     "metadata": {},
     "output_type": "execute_result"
    }
   ],
   "source": [
    "EvenOddP * F22 * sympy.Matrix.transpose(ID) == F4"
   ]
  },
  {
   "cell_type": "markdown",
   "metadata": {},
   "source": [
    "# \\#6"
   ]
  },
  {
   "cell_type": "markdown",
   "metadata": {},
   "source": [
    "### Based on Permutation Matrix for the Conjugate Matrix - even / odd Permutation"
   ]
  },
  {
   "cell_type": "code",
   "execution_count": 23,
   "metadata": {},
   "outputs": [
    {
     "data": {
      "text/latex": [
       "$\\displaystyle \\left[\\begin{matrix}1 & 0 & 0 & 0 & 0 & 0\\\\0 & 0 & 1 & 0 & 0 & 0\\\\0 & 0 & 0 & 0 & 1 & 0\\\\0 & 1 & 0 & 0 & 0 & 0\\\\0 & 0 & 0 & 1 & 0 & 0\\\\0 & 0 & 0 & 0 & 0 & 1\\end{matrix}\\right]$"
      ],
      "text/plain": [
       "Matrix([\n",
       "[1, 0, 0, 0, 0, 0],\n",
       "[0, 0, 1, 0, 0, 0],\n",
       "[0, 0, 0, 0, 1, 0],\n",
       "[0, 1, 0, 0, 0, 0],\n",
       "[0, 0, 0, 1, 0, 0],\n",
       "[0, 0, 0, 0, 0, 1]])"
      ]
     },
     "execution_count": 23,
     "metadata": {},
     "output_type": "execute_result"
    }
   ],
   "source": [
    "N = 6\n",
    "\n",
    "P = generatePermutationMatrix(N)\n",
    "\n",
    "EvenOddP = sympy.Matrix(\n",
    "    np.vstack((\n",
    "        P[0],\n",
    "        P[np.arange(N-2, 1, -2)],\n",
    "        P[np.arange(N-1, 0, -2)]\n",
    "    ))\n",
    ")\n",
    "\n",
    "EvenOddP"
   ]
  },
  {
   "cell_type": "code",
   "execution_count": 24,
   "metadata": {},
   "outputs": [],
   "source": [
    "def generatePermutationFourierMatrix(N):\n",
    "    P = generatePermutationMatrix(N)\n",
    "    return sympy.Matrix(\n",
    "        np.vstack((\n",
    "            P[0],\n",
    "            P[np.arange(N-2, 1, -2)],\n",
    "            P[np.arange(N-1, 0, -2)]\n",
    "        ))\n",
    "    )\n",
    "\n",
    "assert np.all(generatePermutationFourierMatrix(4) == sympy.Matrix([\n",
    "    [1, 0, 0, 0],\n",
    "    [0, 0, 1, 0],\n",
    "    [0, 1, 0, 0],\n",
    "    [0, 0, 0, 1]\n",
    "]))"
   ]
  },
  {
   "cell_type": "markdown",
   "metadata": {},
   "source": [
    "### Shape of the Permutation Matrix\n",
    "$$\n",
    "\\begin{bmatrix}\n",
    "    even_{N/2} & even_{N/2}  \\\\[0.3em]\n",
    "    odd_{N/2} & odd_{N/2} \\\\[0.3em]\n",
    "\\end{bmatrix}\n",
    "$$"
   ]
  },
  {
   "cell_type": "markdown",
   "metadata": {},
   "source": [
    "### N = 8 Fourier Permutation Matrix"
   ]
  },
  {
   "cell_type": "code",
   "execution_count": 25,
   "metadata": {},
   "outputs": [
    {
     "data": {
      "text/latex": [
       "$\\displaystyle \\left[\\begin{matrix}1 & 0 & 0 & 0 & 0 & 0 & 0 & 0\\\\0 & 0 & 1 & 0 & 0 & 0 & 0 & 0\\\\0 & 0 & 0 & 0 & 1 & 0 & 0 & 0\\\\0 & 0 & 0 & 0 & 0 & 0 & 1 & 0\\\\0 & 1 & 0 & 0 & 0 & 0 & 0 & 0\\\\0 & 0 & 0 & 1 & 0 & 0 & 0 & 0\\\\0 & 0 & 0 & 0 & 0 & 1 & 0 & 0\\\\0 & 0 & 0 & 0 & 0 & 0 & 0 & 1\\end{matrix}\\right]$"
      ],
      "text/plain": [
       "Matrix([\n",
       "[1, 0, 0, 0, 0, 0, 0, 0],\n",
       "[0, 0, 1, 0, 0, 0, 0, 0],\n",
       "[0, 0, 0, 0, 1, 0, 0, 0],\n",
       "[0, 0, 0, 0, 0, 0, 1, 0],\n",
       "[0, 1, 0, 0, 0, 0, 0, 0],\n",
       "[0, 0, 0, 1, 0, 0, 0, 0],\n",
       "[0, 0, 0, 0, 0, 1, 0, 0],\n",
       "[0, 0, 0, 0, 0, 0, 0, 1]])"
      ]
     },
     "execution_count": 25,
     "metadata": {},
     "output_type": "execute_result"
    }
   ],
   "source": [
    "generatePermutationFourierMatrix(8)"
   ]
  },
  {
   "cell_type": "code",
   "execution_count": 26,
   "metadata": {},
   "outputs": [
    {
     "data": {
      "text/latex": [
       "$\\displaystyle \\left[\\begin{matrix}1 & 0 & 0 & 0 & 0 & 0\\\\0 & 0 & 1 & 0 & 0 & 0\\\\0 & 0 & 0 & 0 & 1 & 0\\\\0 & 1 & 0 & 0 & 0 & 0\\\\0 & 0 & 0 & 1 & 0 & 0\\\\0 & 0 & 0 & 0 & 0 & 1\\end{matrix}\\right]$"
      ],
      "text/plain": [
       "Matrix([\n",
       "[1, 0, 0, 0, 0, 0],\n",
       "[0, 0, 1, 0, 0, 0],\n",
       "[0, 0, 0, 0, 1, 0],\n",
       "[0, 1, 0, 0, 0, 0],\n",
       "[0, 0, 0, 1, 0, 0],\n",
       "[0, 0, 0, 0, 0, 1]])"
      ]
     },
     "execution_count": 26,
     "metadata": {},
     "output_type": "execute_result"
    }
   ],
   "source": [
    "generatePermutationFourierMatrix(6)"
   ]
  },
  {
   "cell_type": "markdown",
   "metadata": {},
   "source": [
    "## Generate Fourier Matrices"
   ]
  },
  {
   "cell_type": "markdown",
   "metadata": {},
   "source": [
    "### Generate Fourier Blocks for basic Matrix:\n",
    "\n",
    "#### Half Eye: $I_{N/2}$\n",
    "#### Half Fourier Diagonal: $D_{N/2}$\n",
    "#### Half Fourier: $F_{N/2}$"
   ]
  },
  {
   "cell_type": "code",
   "execution_count": 27,
   "metadata": {},
   "outputs": [],
   "source": [
    "def generateFourierBlocks(N, fourierGenerator):\n",
    "    half = int(N/2)\n",
    "    quarterEye = sympy.Matrix.eye(half, half)\n",
    "    quarterZeroes = sympy.Matrix.zeros(half, half)\n",
    "    halfDiagFourier = sympy.Matrix.diag(\n",
    "        np.diagonal(fourierGenerator(N))\n",
    "    )[:half, :half]\n",
    "    halfFourier = fourierGenerator(half)\n",
    "    return (quarterEye, quarterZeroes, halfDiagFourier, halfFourier)"
   ]
  },
  {
   "cell_type": "code",
   "execution_count": 28,
   "metadata": {},
   "outputs": [],
   "source": [
    "Blocks4 = generateFourierBlocks(4, fourierGenerator)\n",
    "\n",
    "assert Blocks4 == (\n",
    "    sympy.Matrix([\n",
    "        [1, 0],\n",
    "        [0, 1]\n",
    "    ]),\n",
    "    sympy.Matrix([\n",
    "        [0, 0],\n",
    "        [0, 0]\n",
    "    ]),\n",
    "    sympy.Matrix([\n",
    "        [1, 0],\n",
    "        [0, ω]\n",
    "    ]),\n",
    "    sympy.Matrix([\n",
    "        [1, 1],\n",
    "        [1, ω]\n",
    "    ])\n",
    ")"
   ]
  },
  {
   "cell_type": "code",
   "execution_count": 29,
   "metadata": {},
   "outputs": [],
   "source": [
    "Blocks4Complex = generateFourierBlocks(4, fourierGeneratorWithExp)\n",
    "\n",
    "assert Blocks4Complex == (\n",
    "    sympy.Matrix([\n",
    "        [1, 0],\n",
    "        [0, 1]\n",
    "    ]),\n",
    "    sympy.Matrix([\n",
    "        [0, 0],\n",
    "        [0, 0]\n",
    "    ]),\n",
    "    sympy.Matrix([\n",
    "        [1, 0],\n",
    "        [0, I]\n",
    "    ]),\n",
    "    sympy.Matrix([\n",
    "        [1, 1],\n",
    "        [1, -1]\n",
    "    ])\n",
    ")"
   ]
  },
  {
   "cell_type": "code",
   "execution_count": 30,
   "metadata": {},
   "outputs": [],
   "source": [
    "def composeFourierMatricesFromBlocks(N, quarterEye, quarterZeroes, halfDiagFourier, halfFourier):\n",
    "    return (\n",
    "        sympy.Matrix.vstack(\n",
    "            sympy.Matrix.hstack(\n",
    "                quarterEye,\n",
    "                halfDiagFourier\n",
    "            ),\n",
    "            sympy.Matrix.hstack(\n",
    "                quarterEye,\n",
    "                -halfDiagFourier\n",
    "            )\n",
    "        ),\n",
    "        sympy.Matrix.vstack(\n",
    "            sympy.Matrix.hstack(\n",
    "                halfFourier,\n",
    "                quarterZeroes\n",
    "            ),\n",
    "            sympy.Matrix.hstack(\n",
    "                quarterZeroes,\n",
    "                halfFourier\n",
    "            )\n",
    "        ),\n",
    "        generatePermutationFourierMatrix(N)\n",
    "    )"
   ]
  },
  {
   "cell_type": "code",
   "execution_count": 31,
   "metadata": {},
   "outputs": [],
   "source": [
    "def createFourierMatrices(N, fourierGenerator):\n",
    "    (quarterEye, quarterZeroes, halfDiagFourier, halfFourier) = generateFourierBlocks(N, fourierGenerator)\n",
    "    return composeFourierMatricesFromBlocks(N, quarterEye, quarterZeroes, halfDiagFourier, halfFourier)"
   ]
  },
  {
   "cell_type": "markdown",
   "metadata": {},
   "source": [
    "## Generate Fourier Matrices \n",
    "\n",
    "### IdentityAndDiagonal: $\n",
    "\\begin{bmatrix}\n",
    "   I_{N/2} & D_{N/2}  \\\\[0.3em]\n",
    "   I_{N/2} & -D_{N/2} \\\\[0.3em]\n",
    " \\end{bmatrix}\n",
    "$\n",
    " \n",
    "### FourierHalfNSize: $\n",
    "\\begin{bmatrix}\n",
    "   F_{N/2} &   \\\\[0.3em]\n",
    "    & F_{N/2} \\\\[0.3em]\n",
    " \\end{bmatrix}\n",
    "$\n",
    "\n",
    "### EvenOddPermutation: $\n",
    "\\begin{bmatrix}\n",
    "    even_{N/2} & even_{N/2}  \\\\[0.3em]\n",
    "    odd_{N/2} & odd_{N/2} \\\\[0.3em]\n",
    "\\end{bmatrix}\n",
    "$\n",
    "\n",
    "### Full picture\n",
    "$$\n",
    "F_{N}=\\begin{bmatrix}\n",
    "   I_{N/2} & D_{N/2}  \\\\[0.3em]\n",
    "   I_{N/2} & -D_{N/2} \\\\[0.3em]\n",
    " \\end{bmatrix}\n",
    " \\cdot\n",
    " \\begin{bmatrix}\n",
    "   F_{N/2} &   \\\\[0.3em]\n",
    "    & F_{N/2} \\\\[0.3em]\n",
    " \\end{bmatrix}\n",
    " \\cdot\n",
    " \\begin{bmatrix}\n",
    "   even_{N/2} & even_{N/2}  \\\\[0.3em]\n",
    "   odd_{N/2} & odd_{N/2} \\\\[0.3em]\n",
    " \\end{bmatrix}\n",
    " $$"
   ]
  },
  {
   "cell_type": "code",
   "execution_count": 32,
   "metadata": {},
   "outputs": [],
   "source": [
    "def generateFourierMatricesWithOmega(N):\n",
    "    return createFourierMatrices(N, fourierGenerator)"
   ]
  },
  {
   "cell_type": "code",
   "execution_count": 33,
   "metadata": {},
   "outputs": [],
   "source": [
    "IdentityAndDiagonal, FHalfNSize, EvenOddPermutation = generateFourierMatricesWithOmega(4)"
   ]
  },
  {
   "cell_type": "code",
   "execution_count": 34,
   "metadata": {},
   "outputs": [
    {
     "data": {
      "text/latex": [
       "$\\displaystyle \\left[\\begin{matrix}1 & 0 & 1 & 0\\\\0 & 1 & 0 & \\omega\\\\1 & 0 & -1 & 0\\\\0 & 1 & 0 & - \\omega\\end{matrix}\\right]$"
      ],
      "text/plain": [
       "Matrix([\n",
       "[1, 0,  1,      0],\n",
       "[0, 1,  0,  omega],\n",
       "[1, 0, -1,      0],\n",
       "[0, 1,  0, -omega]])"
      ]
     },
     "execution_count": 34,
     "metadata": {},
     "output_type": "execute_result"
    }
   ],
   "source": [
    "assert sympy.Matrix([\n",
    "    [1, 0, 1, 0],\n",
    "    [0, 1, 0, ω],\n",
    "    [1, 0, -1, 0],\n",
    "    [0, 1, 0, -ω],\n",
    "]) == IdentityAndDiagonal\n",
    "\n",
    "IdentityAndDiagonal"
   ]
  },
  {
   "cell_type": "code",
   "execution_count": 35,
   "metadata": {},
   "outputs": [
    {
     "data": {
      "text/latex": [
       "$\\displaystyle \\left[\\begin{matrix}1 & 1 & 0 & 0\\\\1 & \\omega & 0 & 0\\\\0 & 0 & 1 & 1\\\\0 & 0 & 1 & \\omega\\end{matrix}\\right]$"
      ],
      "text/plain": [
       "Matrix([\n",
       "[1,     1, 0,     0],\n",
       "[1, omega, 0,     0],\n",
       "[0,     0, 1,     1],\n",
       "[0,     0, 1, omega]])"
      ]
     },
     "execution_count": 35,
     "metadata": {},
     "output_type": "execute_result"
    }
   ],
   "source": [
    "assert sympy.Matrix([\n",
    "    [1, 1, 0, 0],\n",
    "    [1, ω, 0, 0],\n",
    "    [0, 0, 1, 1],\n",
    "    [0, 0, 1, ω]\n",
    "]) == FHalfNSize\n",
    "\n",
    "FHalfNSize"
   ]
  },
  {
   "cell_type": "code",
   "execution_count": 36,
   "metadata": {},
   "outputs": [],
   "source": [
    "FHalfNSize = sympy"
   ]
  },
  {
   "cell_type": "code",
   "execution_count": 37,
   "metadata": {},
   "outputs": [
    {
     "data": {
      "text/latex": [
       "$\\displaystyle \\left[\\begin{matrix}1 & 0 & 0 & 0\\\\0 & 0 & 1 & 0\\\\0 & 1 & 0 & 0\\\\0 & 0 & 0 & 1\\end{matrix}\\right]$"
      ],
      "text/plain": [
       "Matrix([\n",
       "[1, 0, 0, 0],\n",
       "[0, 0, 1, 0],\n",
       "[0, 1, 0, 0],\n",
       "[0, 0, 0, 1]])"
      ]
     },
     "execution_count": 37,
     "metadata": {},
     "output_type": "execute_result"
    }
   ],
   "source": [
    "assert sympy.Matrix([\n",
    "    [1, 0, 0, 0],\n",
    "    [0, 0, 1, 0],\n",
    "    [0, 1, 0, 0],\n",
    "    [0, 0, 0, 1]\n",
    "]) == EvenOddPermutation\n",
    "\n",
    "EvenOddPermutation"
   ]
  },
  {
   "cell_type": "code",
   "execution_count": 38,
   "metadata": {},
   "outputs": [],
   "source": [
    "def generateFourierMatricesWithExp(N):\n",
    "    return createFourierMatrices(N, fourierGeneratorWithExp)"
   ]
  },
  {
   "cell_type": "code",
   "execution_count": 39,
   "metadata": {},
   "outputs": [],
   "source": [
    "IdentityAndDiagonal, FourierHalfNSize, EvenOddPermutation = generateFourierMatricesWithExp(4)"
   ]
  },
  {
   "cell_type": "code",
   "execution_count": 40,
   "metadata": {},
   "outputs": [
    {
     "data": {
      "text/latex": [
       "$\\displaystyle \\left[\\begin{matrix}1 & 0 & 1 & 0\\\\0 & 1 & 0 & i\\\\1 & 0 & -1 & 0\\\\0 & 1 & 0 & - i\\end{matrix}\\right]$"
      ],
      "text/plain": [
       "Matrix([\n",
       "[1, 0,  1,  0],\n",
       "[0, 1,  0,  I],\n",
       "[1, 0, -1,  0],\n",
       "[0, 1,  0, -I]])"
      ]
     },
     "execution_count": 40,
     "metadata": {},
     "output_type": "execute_result"
    }
   ],
   "source": [
    "assert sympy.Matrix([\n",
    "    [1, 0, 1, 0],\n",
    "    [0, 1, 0, I],\n",
    "    [1, 0, -1, 0],\n",
    "    [0, 1, 0, -I]\n",
    "]) == IdentityAndDiagonal\n",
    "\n",
    "IdentityAndDiagonal"
   ]
  },
  {
   "cell_type": "code",
   "execution_count": 41,
   "metadata": {},
   "outputs": [
    {
     "data": {
      "text/latex": [
       "$\\displaystyle \\left[\\begin{matrix}1 & 1 & 0 & 0\\\\1 & -1 & 0 & 0\\\\0 & 0 & 1 & 1\\\\0 & 0 & 1 & -1\\end{matrix}\\right]$"
      ],
      "text/plain": [
       "Matrix([\n",
       "[1,  1, 0,  0],\n",
       "[1, -1, 0,  0],\n",
       "[0,  0, 1,  1],\n",
       "[0,  0, 1, -1]])"
      ]
     },
     "execution_count": 41,
     "metadata": {},
     "output_type": "execute_result"
    }
   ],
   "source": [
    "assert sympy.Matrix([\n",
    "    [1, 1, 0, 0],\n",
    "    [1, -1, 0, 0],\n",
    "    [0, 0, 1, 1],\n",
    "    [0, 0, 1, -1]\n",
    "]) == FourierHalfNSize\n",
    "\n",
    "FourierHalfNSize"
   ]
  },
  {
   "cell_type": "code",
   "execution_count": 42,
   "metadata": {
    "scrolled": true
   },
   "outputs": [
    {
     "data": {
      "text/latex": [
       "$\\displaystyle \\left[\\begin{matrix}1 & 0 & 0 & 0\\\\0 & 0 & 1 & 0\\\\0 & 1 & 0 & 0\\\\0 & 0 & 0 & 1\\end{matrix}\\right]$"
      ],
      "text/plain": [
       "Matrix([\n",
       "[1, 0, 0, 0],\n",
       "[0, 0, 1, 0],\n",
       "[0, 1, 0, 0],\n",
       "[0, 0, 0, 1]])"
      ]
     },
     "execution_count": 42,
     "metadata": {},
     "output_type": "execute_result"
    }
   ],
   "source": [
    "assert sympy.Matrix([\n",
    "    [1, 0, 0, 0],\n",
    "    [0, 0, 1, 0],\n",
    "    [0, 1, 0, 0],\n",
    "    [0, 0, 0, 1]\n",
    "]) == EvenOddPermutation\n",
    "\n",
    "EvenOddPermutation"
   ]
  },
  {
   "cell_type": "markdown",
   "metadata": {},
   "source": [
    "## Solution for \\#6"
   ]
  },
  {
   "cell_type": "code",
   "execution_count": 53,
   "metadata": {},
   "outputs": [
    {
     "data": {
      "text/latex": [
       "$\\displaystyle \\left[\\begin{matrix}1 & 0 & 0 & 1 & 0 & 0\\\\0 & 1 & 0 & 0 & \\omega & 0\\\\0 & 0 & 1 & 0 & 0 & \\omega^{2}\\\\1 & 0 & 0 & -1 & 0 & 0\\\\0 & 1 & 0 & 0 & - \\omega & 0\\\\0 & 0 & 1 & 0 & 0 & - \\omega^{2}\\end{matrix}\\right]$"
      ],
      "text/plain": [
       "Matrix([\n",
       "[1, 0, 0,  1,      0,         0],\n",
       "[0, 1, 0,  0,  omega,         0],\n",
       "[0, 0, 1,  0,      0,  omega**2],\n",
       "[1, 0, 0, -1,      0,         0],\n",
       "[0, 1, 0,  0, -omega,         0],\n",
       "[0, 0, 1,  0,      0, -omega**2]])"
      ]
     },
     "execution_count": 53,
     "metadata": {},
     "output_type": "execute_result"
    }
   ],
   "source": [
    "IdentityAndDiagonal = sympy.Matrix([\n",
    "    [1, 0, 0,  1,    0,    0],\n",
    "    [0, 1, 0,  0,    ω,    0],\n",
    "    [0, 0, 1,  0,    0,    ω**2],\n",
    "    [1, 0, 0, -1,    0,    0],\n",
    "    [0, 1, 0,  0,   -ω,    0],\n",
    "    [0, 0, 1,  0,    0,   -ω**2],\n",
    "])\n",
    "IdentityAndDiagonal"
   ]
  },
  {
   "cell_type": "code",
   "execution_count": 54,
   "metadata": {},
   "outputs": [
    {
     "data": {
      "text/latex": [
       "$\\displaystyle \\left[\\begin{matrix}1 & 1 & 1 & 0 & 0 & 0\\\\1 & \\omega^{2} & \\omega^{4} & 0 & 0 & 0\\\\1 & \\omega^{4} & \\omega^{2} & 0 & 0 & 0\\\\0 & 0 & 0 & 1 & 1 & 1\\\\0 & 0 & 0 & 1 & \\omega^{2} & \\omega^{4}\\\\0 & 0 & 0 & 1 & \\omega^{4} & \\omega^{2}\\end{matrix}\\right]$"
      ],
      "text/plain": [
       "Matrix([\n",
       "[1,        1,        1, 0,        0,        0],\n",
       "[1, omega**2, omega**4, 0,        0,        0],\n",
       "[1, omega**4, omega**2, 0,        0,        0],\n",
       "[0,        0,        0, 1,        1,        1],\n",
       "[0,        0,        0, 1, omega**2, omega**4],\n",
       "[0,        0,        0, 1, omega**4, omega**2]])"
      ]
     },
     "execution_count": 54,
     "metadata": {},
     "output_type": "execute_result"
    }
   ],
   "source": [
    "FourierHalfNSize = sympy.Matrix([\n",
    "    [1, 1,    1,    0,    0,    0],\n",
    "    [1, ω**2, ω**4, 0,    0,    0],\n",
    "    [1, ω**4, ω**2, 0,    0,    0],\n",
    "    [0, 0,    0,    1,    1,    1],\n",
    "    [0, 0,    0,    1,    ω**2, ω**4],\n",
    "    [0, 0,    0,    1,    ω**4, ω**2],\n",
    "])\n",
    "\n",
    "FourierHalfNSize"
   ]
  },
  {
   "cell_type": "code",
   "execution_count": 55,
   "metadata": {},
   "outputs": [
    {
     "data": {
      "text/latex": [
       "$\\displaystyle \\left[\\begin{matrix}1 & 0 & 0 & 0 & 0 & 0\\\\0 & 0 & 1 & 0 & 0 & 0\\\\0 & 0 & 0 & 0 & 1 & 0\\\\0 & 1 & 0 & 0 & 0 & 0\\\\0 & 0 & 0 & 1 & 0 & 0\\\\0 & 0 & 0 & 0 & 0 & 1\\end{matrix}\\right]$"
      ],
      "text/plain": [
       "Matrix([\n",
       "[1, 0, 0, 0, 0, 0],\n",
       "[0, 0, 1, 0, 0, 0],\n",
       "[0, 0, 0, 0, 1, 0],\n",
       "[0, 1, 0, 0, 0, 0],\n",
       "[0, 0, 0, 1, 0, 0],\n",
       "[0, 0, 0, 0, 0, 1]])"
      ]
     },
     "execution_count": 55,
     "metadata": {},
     "output_type": "execute_result"
    }
   ],
   "source": [
    "EvenOddPermutation"
   ]
  },
  {
   "cell_type": "code",
   "execution_count": 56,
   "metadata": {},
   "outputs": [
    {
     "data": {
      "text/latex": [
       "$\\displaystyle \\left[\\begin{matrix}1 & 1 & 1 & 1 & 1 & 1\\\\1 & \\omega & \\omega^{2} & \\omega^{3} & \\omega^{4} & \\omega^{5}\\\\1 & \\omega^{2} & \\omega^{4} & \\omega^{6} & \\omega^{2} & \\omega^{4}\\\\1 & -1 & 1 & -1 & 1 & -1\\\\1 & - \\omega & \\omega^{2} & - \\omega^{3} & \\omega^{4} & - \\omega^{5}\\\\1 & - \\omega^{2} & \\omega^{4} & - \\omega^{6} & \\omega^{2} & - \\omega^{4}\\end{matrix}\\right]$"
      ],
      "text/plain": [
       "Matrix([\n",
       "[1,         1,        1,         1,        1,         1],\n",
       "[1,     omega, omega**2,  omega**3, omega**4,  omega**5],\n",
       "[1,  omega**2, omega**4,  omega**6, omega**2,  omega**4],\n",
       "[1,        -1,        1,        -1,        1,        -1],\n",
       "[1,    -omega, omega**2, -omega**3, omega**4, -omega**5],\n",
       "[1, -omega**2, omega**4, -omega**6, omega**2, -omega**4]])"
      ]
     },
     "execution_count": 56,
     "metadata": {},
     "output_type": "execute_result"
    }
   ],
   "source": [
    "FourierBasedOnMatrices = IdentityAndDiagonal * FourierHalfNSize * EvenOddPermutation\n",
    "FourierBasedOnMatrices"
   ]
  },
  {
   "cell_type": "code",
   "execution_count": 57,
   "metadata": {},
   "outputs": [
    {
     "data": {
      "text/latex": [
       "$\\displaystyle \\left[\\begin{matrix}1 & 1 & 1 & 1 & 1 & 1\\\\1 & \\omega & \\omega^{2} & \\omega^{3} & \\omega^{4} & \\omega^{5}\\\\1 & \\omega^{2} & \\omega^{4} & \\omega^{6} & \\omega^{8} & \\omega^{10}\\\\1 & \\omega^{3} & \\omega^{6} & \\omega^{9} & \\omega^{12} & \\omega^{15}\\\\1 & \\omega^{4} & \\omega^{8} & \\omega^{12} & \\omega^{16} & \\omega^{20}\\\\1 & \\omega^{5} & \\omega^{10} & \\omega^{15} & \\omega^{20} & \\omega^{25}\\end{matrix}\\right]$"
      ],
      "text/plain": [
       "Matrix([\n",
       "[1,        1,         1,         1,         1,         1],\n",
       "[1,    omega,  omega**2,  omega**3,  omega**4,  omega**5],\n",
       "[1, omega**2,  omega**4,  omega**6,  omega**8, omega**10],\n",
       "[1, omega**3,  omega**6,  omega**9, omega**12, omega**15],\n",
       "[1, omega**4,  omega**8, omega**12, omega**16, omega**20],\n",
       "[1, omega**5, omega**10, omega**15, omega**20, omega**25]])"
      ]
     },
     "execution_count": 57,
     "metadata": {},
     "output_type": "execute_result"
    }
   ],
   "source": [
    "# assert FourierBasedOnMatrices == fourierGeneratorWithExp(N)\n",
    "\n",
    "fourierGenerator(N)"
   ]
  },
  {
   "cell_type": "code",
   "execution_count": 58,
   "metadata": {},
   "outputs": [
    {
     "data": {
      "text/latex": [
       "$\\displaystyle \\left[\\begin{matrix}2\\\\1.0 - 1.0 i\\\\0\\\\1.0 + 1.0 i\\end{matrix}\\right]$"
      ],
      "text/plain": [
       "Matrix([\n",
       "[          2],\n",
       "[1.0 - 1.0*I],\n",
       "[          0],\n",
       "[1.0 + 1.0*I]])"
      ]
     },
     "execution_count": 58,
     "metadata": {},
     "output_type": "execute_result"
    }
   ],
   "source": [
    "N = 4\n",
    "sympy.Matrix(\n",
    "    sympy.fft(sympy.Matrix.eye(2, 2), 1)\n",
    ")"
   ]
  },
  {
   "cell_type": "code",
   "execution_count": 59,
   "metadata": {},
   "outputs": [
    {
     "data": {
      "text/plain": [
       "[2, 1.0 - 1.0*I, 0, 1.0 + 1.0*I]"
      ]
     },
     "execution_count": 59,
     "metadata": {},
     "output_type": "execute_result"
    }
   ],
   "source": [
    "N = 16\n",
    "half = int(N/2)\n",
    "\n",
    "sympy.fft(sympy.Matrix.eye(2), 1)\n"
   ]
  },
  {
   "cell_type": "code",
   "execution_count": 60,
   "metadata": {},
   "outputs": [
    {
     "data": {
      "text/latex": [
       "$\\displaystyle \\left[\\begin{matrix}1 & 0 & 0 & 0 & 0 & 0 & 0 & 0\\\\0 & 1 & 0 & 0 & 0 & 0 & 0 & 0\\\\0 & 0 & 1 & 0 & 0 & 0 & 0 & 0\\\\0 & 0 & 0 & 1 & 0 & 0 & 0 & 0\\\\0 & 0 & 0 & 0 & 1 & 0 & 0 & 0\\\\0 & 0 & 0 & 0 & 0 & 1 & 0 & 0\\\\0 & 0 & 0 & 0 & 0 & 0 & 1 & 0\\\\0 & 0 & 0 & 0 & 0 & 0 & 0 & 1\\end{matrix}\\right]$"
      ],
      "text/plain": [
       "Matrix([\n",
       "[1, 0, 0, 0, 0, 0, 0, 0],\n",
       "[0, 1, 0, 0, 0, 0, 0, 0],\n",
       "[0, 0, 1, 0, 0, 0, 0, 0],\n",
       "[0, 0, 0, 1, 0, 0, 0, 0],\n",
       "[0, 0, 0, 0, 1, 0, 0, 0],\n",
       "[0, 0, 0, 0, 0, 1, 0, 0],\n",
       "[0, 0, 0, 0, 0, 0, 1, 0],\n",
       "[0, 0, 0, 0, 0, 0, 0, 1]])"
      ]
     },
     "execution_count": 60,
     "metadata": {},
     "output_type": "execute_result"
    }
   ],
   "source": [
    "sympy.Matrix.eye(half)"
   ]
  }
 ],
 "metadata": {
  "kernelspec": {
   "display_name": "Python 3.9.4 64-bit",
   "language": "python",
   "name": "python394jvsc74a57bd04e1d9a8909477db77738c33245c29c7265277ef753467dede8cf3f814cde494e"
  },
  "language_info": {
   "codemirror_mode": {
    "name": "ipython",
    "version": 3
   },
   "file_extension": ".py",
   "mimetype": "text/x-python",
   "name": "python",
   "nbconvert_exporter": "python",
   "pygments_lexer": "ipython3",
   "version": "3.9.4"
  },
  "metadata": {
   "interpreter": {
    "hash": "767d51c1340bd893661ea55ea3124f6de3c7a262a8b4abca0554b478b1e2ff90"
   }
  }
 },
 "nbformat": 4,
 "nbformat_minor": 2
}
